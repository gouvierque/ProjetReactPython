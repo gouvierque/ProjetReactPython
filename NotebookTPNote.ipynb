{
 "cells": [
  {
   "cell_type": "code",
   "execution_count": 1,
   "metadata": {},
   "outputs": [],
   "source": [
    "import numpy as np\n",
    "import pandas as pd\n",
    "import requests\n",
    "from datetime import datetime, date\n",
    "import matplotlib.pyplot as plt\n",
    "import matplotlib.ticker as ticker\n",
    "import matplotlib.dates as mdates"
   ]
  },
  {
   "cell_type": "code",
   "execution_count": 17,
   "metadata": {},
   "outputs": [
    {
     "data": {
      "text/html": [
       "<div>\n",
       "<style scoped>\n",
       "    .dataframe tbody tr th:only-of-type {\n",
       "        vertical-align: middle;\n",
       "    }\n",
       "\n",
       "    .dataframe tbody tr th {\n",
       "        vertical-align: top;\n",
       "    }\n",
       "\n",
       "    .dataframe thead th {\n",
       "        text-align: right;\n",
       "    }\n",
       "</style>\n",
       "<table border=\"1\" class=\"dataframe\">\n",
       "  <thead>\n",
       "    <tr style=\"text-align: right;\">\n",
       "      <th></th>\n",
       "      <th>name</th>\n",
       "      <th>birthdate</th>\n",
       "    </tr>\n",
       "    <tr>\n",
       "      <th>id</th>\n",
       "      <th></th>\n",
       "      <th></th>\n",
       "    </tr>\n",
       "  </thead>\n",
       "  <tbody>\n",
       "    <tr>\n",
       "      <th>723058</th>\n",
       "      <td>Adrian Ricard</td>\n",
       "      <td>1924-01-01</td>\n",
       "    </tr>\n",
       "    <tr>\n",
       "      <th>242368</th>\n",
       "      <td>Al Dunlap</td>\n",
       "      <td>1924-01-01</td>\n",
       "    </tr>\n",
       "    <tr>\n",
       "      <th>750596</th>\n",
       "      <td>Al Ruscio</td>\n",
       "      <td>1924-01-01</td>\n",
       "    </tr>\n",
       "    <tr>\n",
       "      <th>321294</th>\n",
       "      <td>Aldo Giuffrè</td>\n",
       "      <td>1924-01-01</td>\n",
       "    </tr>\n",
       "    <tr>\n",
       "      <th>59091</th>\n",
       "      <td>Anne Barton</td>\n",
       "      <td>1924-01-01</td>\n",
       "    </tr>\n",
       "    <tr>\n",
       "      <th>...</th>\n",
       "      <td>...</td>\n",
       "      <td>...</td>\n",
       "    </tr>\n",
       "    <tr>\n",
       "      <th>447230</th>\n",
       "      <td>Warren J. Kemmerling</td>\n",
       "      <td>1924-01-01</td>\n",
       "    </tr>\n",
       "    <tr>\n",
       "      <th>9393</th>\n",
       "      <td>Werner Abrolat</td>\n",
       "      <td>1924-01-01</td>\n",
       "    </tr>\n",
       "    <tr>\n",
       "      <th>117252</th>\n",
       "      <td>William Bryant</td>\n",
       "      <td>1924-01-01</td>\n",
       "    </tr>\n",
       "    <tr>\n",
       "      <th>257920</th>\n",
       "      <td>William Russell</td>\n",
       "      <td>1924-01-01</td>\n",
       "    </tr>\n",
       "    <tr>\n",
       "      <th>452471</th>\n",
       "      <td>Wolfgang Kieling</td>\n",
       "      <td>1924-01-01</td>\n",
       "    </tr>\n",
       "  </tbody>\n",
       "</table>\n",
       "<p>140 rows × 2 columns</p>\n",
       "</div>"
      ],
      "text/plain": [
       "                        name   birthdate\n",
       "id                                      \n",
       "723058         Adrian Ricard  1924-01-01\n",
       "242368             Al Dunlap  1924-01-01\n",
       "750596             Al Ruscio  1924-01-01\n",
       "321294          Aldo Giuffrè  1924-01-01\n",
       "59091            Anne Barton  1924-01-01\n",
       "...                      ...         ...\n",
       "447230  Warren J. Kemmerling  1924-01-01\n",
       "9393          Werner Abrolat  1924-01-01\n",
       "117252        William Bryant  1924-01-01\n",
       "257920       William Russell  1924-01-01\n",
       "452471      Wolfgang Kieling  1924-01-01\n",
       "\n",
       "[140 rows x 2 columns]"
      ]
     },
     "execution_count": 17,
     "metadata": {},
     "output_type": "execute_result"
    }
   ],
   "source": [
    "year = 1924\n",
    "dfStarsByBirthyear = pd.read_json(f'http://localhost:8000/stars/by_birthyear/{year}')\n",
    "dfStarsByBirthyear.birthdate = dfStarsByBirthyear.birthdate.apply(lambda bd:date.fromisoformat(bd) if bd is not None else None)\n",
    "dfStarsByBirthyear.set_index('id', inplace=True)\n",
    "dfStarsByBirthyear"
   ]
  },
  {
   "cell_type": "code",
   "execution_count": null,
   "metadata": {},
   "outputs": [],
   "source": [
    "title = input('Quel film voulez-vous ?').split()\n",
    "# Gérer les espaces pour l'URL\n",
    "s = '%20'\n",
    "s = s.join(title)\n",
    "# Lecture json\n",
    "dfMoviesByTitle = pd.read_json(f'http://localhost:8000/movies/by_title_part?n={s}')\n",
    "dfMoviesByTitle.set_index('id', inplace=True)\n",
    "dfMoviesByTitle"
   ]
  },
  {
   "cell_type": "code",
   "execution_count": 5,
   "metadata": {},
   "outputs": [
    {
     "data": {
      "text/html": [
       "<div>\n",
       "<style scoped>\n",
       "    .dataframe tbody tr th:only-of-type {\n",
       "        vertical-align: middle;\n",
       "    }\n",
       "\n",
       "    .dataframe tbody tr th {\n",
       "        vertical-align: top;\n",
       "    }\n",
       "\n",
       "    .dataframe thead th {\n",
       "        text-align: right;\n",
       "    }\n",
       "</style>\n",
       "<table border=\"1\" class=\"dataframe\">\n",
       "  <thead>\n",
       "    <tr style=\"text-align: right;\">\n",
       "      <th></th>\n",
       "      <th>star</th>\n",
       "      <th>movie_count</th>\n",
       "      <th>first_movie_date</th>\n",
       "      <th>last_movie_date</th>\n",
       "    </tr>\n",
       "  </thead>\n",
       "  <tbody>\n",
       "    <tr>\n",
       "      <th>0</th>\n",
       "      <td>John Wayne</td>\n",
       "      <td>172</td>\n",
       "      <td>1926</td>\n",
       "      <td>1976</td>\n",
       "    </tr>\n",
       "    <tr>\n",
       "      <th>1</th>\n",
       "      <td>Harrison Ford</td>\n",
       "      <td>86</td>\n",
       "      <td>1915</td>\n",
       "      <td>1932</td>\n",
       "    </tr>\n",
       "    <tr>\n",
       "      <th>2</th>\n",
       "      <td>Sean Connery</td>\n",
       "      <td>73</td>\n",
       "      <td>1954</td>\n",
       "      <td>2012</td>\n",
       "    </tr>\n",
       "    <tr>\n",
       "      <th>3</th>\n",
       "      <td>Sylvester Stallone</td>\n",
       "      <td>73</td>\n",
       "      <td>1969</td>\n",
       "      <td>2019</td>\n",
       "    </tr>\n",
       "    <tr>\n",
       "      <th>4</th>\n",
       "      <td>Tom Hanks</td>\n",
       "      <td>69</td>\n",
       "      <td>1980</td>\n",
       "      <td>2020</td>\n",
       "    </tr>\n",
       "    <tr>\n",
       "      <th>...</th>\n",
       "      <td>...</td>\n",
       "      <td>...</td>\n",
       "      <td>...</td>\n",
       "      <td>...</td>\n",
       "    </tr>\n",
       "    <tr>\n",
       "      <th>161</th>\n",
       "      <td>Patrick Wayne</td>\n",
       "      <td>10</td>\n",
       "      <td>1950</td>\n",
       "      <td>1971</td>\n",
       "    </tr>\n",
       "    <tr>\n",
       "      <th>162</th>\n",
       "      <td>Frank Welker</td>\n",
       "      <td>10</td>\n",
       "      <td>1981</td>\n",
       "      <td>2019</td>\n",
       "    </tr>\n",
       "    <tr>\n",
       "      <th>163</th>\n",
       "      <td>Grant Withers</td>\n",
       "      <td>10</td>\n",
       "      <td>1943</td>\n",
       "      <td>1955</td>\n",
       "    </tr>\n",
       "    <tr>\n",
       "      <th>164</th>\n",
       "      <td>Michael Fassbender</td>\n",
       "      <td>10</td>\n",
       "      <td>2001</td>\n",
       "      <td>2017</td>\n",
       "    </tr>\n",
       "    <tr>\n",
       "      <th>165</th>\n",
       "      <td>Joseph Oliveira</td>\n",
       "      <td>10</td>\n",
       "      <td>1975</td>\n",
       "      <td>2019</td>\n",
       "    </tr>\n",
       "  </tbody>\n",
       "</table>\n",
       "<p>166 rows × 4 columns</p>\n",
       "</div>"
      ],
      "text/plain": [
       "                   star  movie_count  first_movie_date  last_movie_date\n",
       "0            John Wayne          172              1926             1976\n",
       "1         Harrison Ford           86              1915             1932\n",
       "2          Sean Connery           73              1954             2012\n",
       "3    Sylvester Stallone           73              1969             2019\n",
       "4             Tom Hanks           69              1980             2020\n",
       "..                  ...          ...               ...              ...\n",
       "161       Patrick Wayne           10              1950             1971\n",
       "162        Frank Welker           10              1981             2019\n",
       "163       Grant Withers           10              1943             1955\n",
       "164  Michael Fassbender           10              2001             2017\n",
       "165     Joseph Oliveira           10              1975             2019\n",
       "\n",
       "[166 rows x 4 columns]"
      ]
     },
     "execution_count": 5,
     "metadata": {},
     "output_type": "execute_result"
    }
   ],
   "source": [
    "min_count = 10\n",
    "\n",
    "dfStatsMovieByActor = pd.read_json(f'http://localhost:8000/stars/stats_movie_by_actor?minc={min_count}')\n",
    "dfStatsMovieByActor"
   ]
  },
  {
   "cell_type": "code",
   "execution_count": 18,
   "metadata": {},
   "outputs": [
    {
     "data": {
      "text/html": [
       "<div>\n",
       "<style scoped>\n",
       "    .dataframe tbody tr th:only-of-type {\n",
       "        vertical-align: middle;\n",
       "    }\n",
       "\n",
       "    .dataframe tbody tr th {\n",
       "        vertical-align: top;\n",
       "    }\n",
       "\n",
       "    .dataframe thead th {\n",
       "        text-align: right;\n",
       "    }\n",
       "</style>\n",
       "<table border=\"1\" class=\"dataframe\">\n",
       "  <thead>\n",
       "    <tr style=\"text-align: right;\">\n",
       "      <th></th>\n",
       "      <th>count_movies</th>\n",
       "    </tr>\n",
       "    <tr>\n",
       "      <th>year</th>\n",
       "      <th></th>\n",
       "    </tr>\n",
       "  </thead>\n",
       "  <tbody>\n",
       "    <tr>\n",
       "      <th>1915</th>\n",
       "      <td>1</td>\n",
       "    </tr>\n",
       "    <tr>\n",
       "      <th>1916</th>\n",
       "      <td>1</td>\n",
       "    </tr>\n",
       "    <tr>\n",
       "      <th>1917</th>\n",
       "      <td>7</td>\n",
       "    </tr>\n",
       "    <tr>\n",
       "      <th>1918</th>\n",
       "      <td>10</td>\n",
       "    </tr>\n",
       "    <tr>\n",
       "      <th>1919</th>\n",
       "      <td>10</td>\n",
       "    </tr>\n",
       "    <tr>\n",
       "      <th>...</th>\n",
       "      <td>...</td>\n",
       "    </tr>\n",
       "    <tr>\n",
       "      <th>2016</th>\n",
       "      <td>15</td>\n",
       "    </tr>\n",
       "    <tr>\n",
       "      <th>2017</th>\n",
       "      <td>22</td>\n",
       "    </tr>\n",
       "    <tr>\n",
       "      <th>2018</th>\n",
       "      <td>20</td>\n",
       "    </tr>\n",
       "    <tr>\n",
       "      <th>2019</th>\n",
       "      <td>28</td>\n",
       "    </tr>\n",
       "    <tr>\n",
       "      <th>2020</th>\n",
       "      <td>6</td>\n",
       "    </tr>\n",
       "  </tbody>\n",
       "</table>\n",
       "<p>106 rows × 1 columns</p>\n",
       "</div>"
      ],
      "text/plain": [
       "      count_movies\n",
       "year              \n",
       "1915             1\n",
       "1916             1\n",
       "1917             7\n",
       "1918            10\n",
       "1919            10\n",
       "...            ...\n",
       "2016            15\n",
       "2017            22\n",
       "2018            20\n",
       "2019            28\n",
       "2020             6\n",
       "\n",
       "[106 rows x 1 columns]"
      ]
     },
     "execution_count": 18,
     "metadata": {},
     "output_type": "execute_result"
    }
   ],
   "source": [
    "dfMovies = pd.read_json(f'http://localhost:8000/movies')\n",
    "dfMovies = dfMovies[['year','title']]\n",
    "dfMoviesByYear = dfMovies.groupby(by='year').count()\n",
    "dfMoviesByYear.columns = pd.Index(['count_movies'], dtype='object')\n",
    "dfMoviesByYear"
   ]
  },
  {
   "cell_type": "code",
   "execution_count": 8,
   "metadata": {},
   "outputs": [],
   "source": [
    "dfStars = pd.read_json(f'http://localhost:8000/stars')\n",
    "dfStars.birthdate = dfStars.birthdate.apply(lambda bd:date.fromisoformat(bd) if bd is not None else None)\n",
    "dfStars = dfStars[~dfStars['birthdate'].isna()]\n",
    "dfStars['birthyear'] = pd.to_datetime(dfStars['birthdate']).dt.year\n",
    "dfStarsByYear = dfStars[['name','birthyear']]\n",
    "dfStarsByYear = dfStarsByYear.groupby(by='birthyear').count()\n",
    "dfStarsByYear.columns = pd.Index(['count_stars'], dtype='object')"
   ]
  },
  {
   "cell_type": "code",
   "execution_count": 19,
   "metadata": {},
   "outputs": [
    {
     "data": {
      "text/plain": [
       "(1910.0, 2025.0)"
      ]
     },
     "execution_count": 19,
     "metadata": {},
     "output_type": "execute_result"
    },
    {
     "data": {
      "image/png": "[encoded data removed]",
      "text/plain": [
       "<Figure size 1440x360 with 2 Axes>"
      ]
     },
     "metadata": {
      "needs_background": "light"
     },
     "output_type": "display_data"
    }
   ],
   "source": [
    "fig, (ax1,ax2) = plt.subplots(1,2, figsize=(20,5))\n",
    "ax1.bar(dfMoviesByYear.index, dfMoviesByYear.count_movies, color='red')\n",
    "ax1.set_xlabel('year')\n",
    "ax1.set_ylabel('nbr_movies')\n",
    "ax1.set_title('nbr_movies_by_year')\n",
    "ax1.set_xlim(1850,2025)\n",
    "ax1.xaxis.set_major_locator(ticker.MultipleLocator(15))\n",
    "ax1.xaxis.set_minor_locator(ticker.MultipleLocator(10))\n",
    "ax2.bar(dfStarsByYear.index, dfStarsByYear.count_stars, color='red')\n",
    "ax2.set_xlabel('year')\n",
    "ax2.set_ylabel('nbr_born')\n",
    "ax2.set_title(\"nbr_born_by_year\")\n",
    "ax1.set_xlim(1910,2025)"
   ]
  },
  {
   "cell_type": "code",
   "execution_count": 11,
   "metadata": {},
   "outputs": [],
   "source": [
    "Top10 = dfStatsMovieByActor.sort_values(['movie_count'], ascending=False).head(10)\n",
    "Top10 = Top10.set_index('star')"
   ]
  },
  {
   "cell_type": "code",
   "execution_count": 20,
   "metadata": {},
   "outputs": [
    {
     "data": {
      "text/plain": [
       "(1900.0, 2025.0)"
      ]
     },
     "execution_count": 20,
     "metadata": {},
     "output_type": "execute_result"
    },
    {
     "data": {
      "image/png": "[encoded data removed]",
      "text/plain": [
       "<Figure size 1440x360 with 2 Axes>"
      ]
     },
     "metadata": {
      "needs_background": "light"
     },
     "output_type": "display_data"
    }
   ],
   "source": [
    "fig, (ax1,ax2) = plt.subplots(1,2, figsize=(20,5))\n",
    "\n",
    "Top10.movie_count.plot(kind='bar', ax=ax1, color='red')\n",
    "ax1.set_xlabel('stars')\n",
    "ax1.set_ylabel('year')\n",
    "ax1.set_title('nbr_movies_top10')\n",
    "ax1.set_ylim(0,200)\n",
    "\n",
    "\n",
    "Top10.plot(y=['first_movie_date', 'last_movie_date'], kind='bar', ax=ax2, color=['blue', 'red'])\n",
    "ax2.set_xlabel('stars')\n",
    "ax2.set_ylabel('year')\n",
    "ax2.set_title(\"first_and_last_movie_top10\")\n",
    "ax2.set_ylim(1900,2025)"
   ]
  },
  {
   "cell_type": "code",
   "execution_count": null,
   "metadata": {},
   "outputs": [],
   "source": []
  },
  {
   "cell_type": "code",
   "execution_count": null,
   "metadata": {},
   "outputs": [],
   "source": []
  }
 ],
 "metadata": {
  "kernelspec": {
   "display_name": "Python 3",
   "language": "python",
   "name": "python3"
  },
  "language_info": {
   "codemirror_mode": {
    "name": "ipython",
    "version": 3
   },
   "file_extension": ".py",
   "mimetype": "text/x-python",
   "name": "python",
   "nbconvert_exporter": "python",
   "pygments_lexer": "ipython3",
   "version": "3.8.3"
  }
 },
 "nbformat": 4,
 "nbformat_minor": 4
}
